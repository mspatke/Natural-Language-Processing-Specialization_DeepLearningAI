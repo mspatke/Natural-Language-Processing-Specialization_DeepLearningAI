{
 "cells": [
  {
   "cell_type": "code",
   "execution_count": 1,
   "id": "ac77412f",
   "metadata": {},
   "outputs": [],
   "source": [
    "import os\n",
    "os.environ['TF_CPP_MIN_LOG_LEVEL']= '3'\n",
    "\n",
    "import numpy as np\n",
    "import tensorflow as tf\n",
    "from tensorflow.keras.preprocessing.text import Tokenizer\n",
    "from tensorflow.keras import layers\n",
    "from tensorflow.keras import losses\n",
    "import re\n",
    "import string\n",
    "import matplotlib.pyplot as plt\n"
   ]
  },
  {
   "cell_type": "code",
   "execution_count": 2,
   "id": "d427c100",
   "metadata": {},
   "outputs": [],
   "source": [
    "# Select your favourite number for the random seed\n",
    "seed = 555\n",
    "\n",
    "#sets the global random seed for numpy\n",
    "np.random.seed(seed)\n",
    "\n",
    "#sets the global random seed for tensorflow\n",
    "tf.random.set_seed(seed)\n",
    "\n"
   ]
  },
  {
   "cell_type": "code",
   "execution_count": 3,
   "id": "245b8e42",
   "metadata": {},
   "outputs": [],
   "source": [
    "data_dir = './data/aclImdb'"
   ]
  },
  {
   "cell_type": "code",
   "execution_count": 4,
   "id": "3af2e3cd",
   "metadata": {},
   "outputs": [
    {
     "name": "stdout",
     "output_type": "stream",
     "text": [
      "Found 5000 files belonging to 2 classes.\n",
      "Using 4000 files for training.\n",
      "Found 5000 files belonging to 2 classes.\n",
      "Using 1000 files for validation.\n",
      "Found 5000 files belonging to 2 classes.\n"
     ]
    }
   ],
   "source": [
    "raw_training_set = tf.keras.utils.text_dataset_from_directory(\n",
    "                    f'{data_dir}/train',\n",
    "                    labels = 'inferred',\n",
    "                    label_mode= 'int',\n",
    "                    batch_size = 32,\n",
    "                    validation_split=0.2,\n",
    "                    subset = 'training',\n",
    "                    seed=seed )\n",
    "\n",
    "raw_validation_set = tf.keras.utils.text_dataset_from_directory(\n",
    "                    f'{data_dir}/train',\n",
    "                    labels = 'inferred',\n",
    "                    label_mode = 'int',\n",
    "                    batch_size = 32,\n",
    "                    validation_split= 0.2,\n",
    "                    subset = 'validation',\n",
    "                    seed=seed )\n",
    "\n",
    "raw_test_set = tf.keras.utils.text_dataset_from_directory(\n",
    "                    f'{data_dir}/test', \n",
    "                    labels ='inferred',\n",
    "                    label_mode='int',\n",
    "                    batch_size=32)"
   ]
  },
  {
   "cell_type": "code",
   "execution_count": 5,
   "id": "1f6db82b",
   "metadata": {},
   "outputs": [
    {
     "name": "stdout",
     "output_type": "stream",
     "text": [
      "Label 0 corresponds to neg\n",
      "Label 1 corresponds to pos\n"
     ]
    }
   ],
   "source": [
    "print(f\"Label 0 corresponds to {raw_training_set.class_names[0]}\")\n",
    "print(f\"Label 1 corresponds to {raw_training_set.class_names[1]}\")"
   ]
  },
  {
   "cell_type": "code",
   "execution_count": 6,
   "id": "d6250ed4",
   "metadata": {},
   "outputs": [],
   "source": [
    "# for text_batch , label_batch in raw_training_set.take(1):\n",
    "#     for i in range(3):\n",
    "#         print(f'Review:\\n {text_batch.numpy()[i]}')\n",
    "#         print(f'Label:{label_batch.numpy()[i]}\\n')"
   ]
  },
  {
   "cell_type": "markdown",
   "id": "9335a46d",
   "metadata": {},
   "source": [
    "## 3. Prepare the Data"
   ]
  },
  {
   "cell_type": "code",
   "execution_count": 7,
   "id": "299c87a7",
   "metadata": {},
   "outputs": [],
   "source": [
    "max_features = 10000\n",
    "\n",
    "def custom_standardization(input_data):\n",
    "    \n",
    "    lowercase = tf.strings.lower(input_data)\n",
    "    \n",
    "    stripped_html = tf.strings.regex_replace(lowercase , '<br />', ' ')\n",
    "    \n",
    "    replaced = tf.strings.regex_replace(stripped_html, \n",
    "                                        '[%s]'%re.escape(string.punctuation),\n",
    "                                        '' )\n",
    "    return replaced\n",
    "\n",
    "\n",
    "vectorize_layer = layers.TextVectorization(\n",
    "                  standardize= custom_standardization,\n",
    "                  max_tokens = max_features,\n",
    "                  output_mode='int',\n",
    "                  output_sequence_length=250 )"
   ]
  },
  {
   "cell_type": "code",
   "execution_count": 8,
   "id": "dd4aae20",
   "metadata": {},
   "outputs": [
    {
     "data": {
      "text/plain": [
       "<tf.Tensor: shape=(), dtype=string, numpy=b'harshada htpps6761546html patke is here'>"
      ]
     },
     "execution_count": 8,
     "metadata": {},
     "output_type": "execute_result"
    }
   ],
   "source": [
    "input_data = \"Harshada' htpps://6761546.html Patke is here\"\n",
    "custom_standardization(input_data)"
   ]
  },
  {
   "cell_type": "code",
   "execution_count": 9,
   "id": "b480d229",
   "metadata": {},
   "outputs": [
    {
     "name": "stdout",
     "output_type": "stream",
     "text": [
      "Vocabulary size: 10000\n"
     ]
    }
   ],
   "source": [
    "train_text = raw_training_set.map(lambda x, y:x)\n",
    "vectorize_layer.adapt(train_text)\n",
    "\n",
    "# Print out the vocabulary size\n",
    "print(f\"Vocabulary size: {len(vectorize_layer.get_vocabulary())}\")"
   ]
  },
  {
   "cell_type": "code",
   "execution_count": null,
   "id": "5c9418c3",
   "metadata": {},
   "outputs": [],
   "source": [
    "\n"
   ]
  },
  {
   "cell_type": "code",
   "execution_count": 10,
   "id": "18c87525",
   "metadata": {},
   "outputs": [
    {
     "name": "stdout",
     "output_type": "stream",
     "text": [
      "Review:\n",
      "b\"A thematic staple of cinema since its inception is that genre involving seductive women whose wiles and means entice susceptible men not only into their arms but also into dire circumstances that typically will only result in jeopardy for the male victims, along with incertitude as to whether or not temptresses will be forced to take their medicine, and here Susan Lucci performs as a siren, although her acting chops from a primarily soap opera pedigree are inadequate to make her performance a credible one. Isabelle (Lucci), inconstant wife of venture capitalist Stewart Collins (John O'Hurley), begins a love affair merely for fun with yacht salesman Richard Davis (Philip Casnoff), simply a bagatelle for her but an earnest matter of the heart for Richard, apparently mesmerized by his lover while she takes advantage of his ardour by engaging him in a risky plot that will graduate into a scheme of murderous intent. When Davis becomes convinced that guileful Isabelle is a victim of physical abuse administered by her husband, he desperately attempts to free her from what he feels is a marital trap in order that he may wed her himself, coming to believe that the only clear solution to his plight will be found in a rudimentary essay at hiring a professional assassin who will dispose of the allegedly violent Stewart. In the wake of the hit-man's assault upon Collins, a pair of police detectives, performed by Joe Grifasi and Dean McDermott, become increasingly curious concerning Isabelle's possible involvement in the crime, while at the same time reality dawns upon enraptured Richard who might have to pay a dear price in return for his inamorata's maneuvering. Lucci and Kasnoff are properly cast as a viable pair of conspirators, each giving a reading that makes for a boring rather than charming set of lovebirds, but O'Hurley and McDermott offer strong turns in a film that suffers from a hackneyed scenario as well as uninventive direction and design elements. Released upon a Fremantle DVD, this largely lustreless affair depicting a man 'neath the spell of a seductress does benefit from top-flight visual and sound quality, and although no extra features are provided, the above-average production quality enhances able efforts from cinematographer Robert Primes and composer Stephen Edwards.\"\n",
      "\n",
      "Label: neg\n",
      "\n",
      "Vectorized review\n",
      "(<tf.Tensor: shape=(1, 250), dtype=int64, numpy=\n",
      "array([[   3, 7749,    1,    5,  443,  243,   29,    1,    7,   12,  465,\n",
      "        1298, 7156,  355,  576,    1,    4,  739,    1,    1,  343,   23,\n",
      "          58,   75,   64, 3270,   18,   76,   75, 3811, 2757,   12, 2944,\n",
      "          79,   58,  907,    8, 5422,   16,    2,  929, 1429,  349,   15,\n",
      "           1,   14,    6,  588,   40,   23,    1,   79,   27,  787,    6,\n",
      "         183,   64, 7309,    4,  128, 2501,    1, 4524,   14,    3,    1,\n",
      "         277,   39,  116, 7569,   35,    3, 5034, 2058, 1696,    1,   24,\n",
      "           1,    6,   98,   39,  233,    3, 3019,   28, 8083,    1,    1,\n",
      "         301,    5, 7715, 8349, 1458,    1,  267,    1,  835,    3,  118,\n",
      "        1511, 1645,   16,  258,   15, 9538, 7857,  657, 1376, 3320,    1,\n",
      "         312,    3,    1,   16,   39,   18,   33, 6887,  569,    5,    2,\n",
      "         523,   16,  657,  621, 8915,   31,   22, 1794,  126,   53,  289,\n",
      "        2938,    5,   22,    1,   31, 1556,   85,    8,    3, 7177,  111,\n",
      "          12,   79, 9097,   75,    3, 4066,    5, 3749, 2461,   51, 1376,\n",
      "         406, 2348,   12,    1, 8083,    7,    3, 1090,    5, 1353, 2048,\n",
      "           1,   31,   39,  595,   26, 2606,  924,    6,  870,   39,   35,\n",
      "          48,   26,  722,    7,    3, 7316, 4675,    8,  573,   12,   26,\n",
      "         200, 4661,   39,  275,  539,    6,  253,   12,    2,   58,  709,\n",
      "        4989,    6,   22, 4521,   79,   27,  259,    8,    3,    1,    1,\n",
      "          30, 7395,    3, 1674, 3686,   34,   79,    1,    5,    2,    1,\n",
      "         946, 1458,    8,    2, 3869,    5,    2,    1, 4906,  749,    1,\n",
      "           3, 2014,    5,  516, 7512, 2976,   31, 1132,    1,    4, 3017,\n",
      "        7311,  388, 3220, 2299, 3503,    1,  561, 3110]])>, <tf.Tensor: shape=(), dtype=int32, numpy=0>)\n"
     ]
    }
   ],
   "source": [
    "def vectorize_text(text, label):\n",
    "    text = tf.expand_dims(text, -1)\n",
    "    return vectorize_layer(text), label\n",
    "\n",
    "text_batch, label_batch = next(iter(raw_training_set))\n",
    "first_review , first_label = text_batch[0], label_batch[0]\n",
    "\n",
    "# Show the raw data\n",
    "print(f\"Review:\\n{first_review}\")\n",
    "print(f\"\\nLabel: {raw_training_set.class_names[first_label]}\")\n",
    "# Show the vectorized data\n",
    "print(f\"\\nVectorized review\\n{vectorize_text(first_review, first_label)}\")"
   ]
  },
  {
   "cell_type": "code",
   "execution_count": 11,
   "id": "c746e49d",
   "metadata": {},
   "outputs": [],
   "source": [
    "train_ds = raw_training_set.map(vectorize_text)\n",
    "val_ds = raw_validation_set.map(vectorize_text)\n",
    "test_ds = raw_test_set.map(vectorize_text)"
   ]
  },
  {
   "cell_type": "code",
   "execution_count": 12,
   "id": "6a299042",
   "metadata": {},
   "outputs": [
    {
     "data": {
      "text/plain": [
       "(125, 32, 157)"
      ]
     },
     "execution_count": 12,
     "metadata": {},
     "output_type": "execute_result"
    }
   ],
   "source": [
    "len(train_ds), len(val_ds), len(test_ds)"
   ]
  },
  {
   "cell_type": "code",
   "execution_count": 13,
   "id": "624db2e8",
   "metadata": {},
   "outputs": [],
   "source": [
    "AUTOTUNE = tf.data.AUTOTUNE\n",
    "\n",
    "train_ds = train_ds.cache().prefetch(buffer_size=AUTOTUNE)\n",
    "test_ds = test_ds.cache().prefetch(buffer_size=AUTOTUNE)"
   ]
  },
  {
   "cell_type": "markdown",
   "id": "7e18dfb6",
   "metadata": {},
   "source": [
    "## 4. Create a Sequential Model"
   ]
  },
  {
   "cell_type": "code",
   "execution_count": 14,
   "id": "67a08894",
   "metadata": {},
   "outputs": [
    {
     "name": "stdout",
     "output_type": "stream",
     "text": [
      "Model: \"sequential\"\n",
      "_________________________________________________________________\n",
      " Layer (type)                Output Shape              Param #   \n",
      "=================================================================\n",
      " embedding (Embedding)       (None, None, 16)          160000    \n",
      "                                                                 \n",
      " global_average_pooling1d (  (None, 16)                0         \n",
      " GlobalAveragePooling1D)                                         \n",
      "                                                                 \n",
      " dense (Dense)               (None, 1)                 17        \n",
      "                                                                 \n",
      "=================================================================\n",
      "Total params: 160017 (625.07 KB)\n",
      "Trainable params: 160017 (625.07 KB)\n",
      "Non-trainable params: 0 (0.00 Byte)\n",
      "_________________________________________________________________\n"
     ]
    }
   ],
   "source": [
    "embedding_dim =16\n",
    "\n",
    "model_sequential = tf.keras.Sequential([\n",
    "    layers.Embedding(max_features, embedding_dim),\n",
    "    layers.GlobalAvgPool1D(),\n",
    "    layers.Dense(1, activation='sigmoid')\n",
    "])\n",
    "\n",
    "model_sequential.summary()"
   ]
  },
  {
   "cell_type": "code",
   "execution_count": 15,
   "id": "26cd1668",
   "metadata": {},
   "outputs": [],
   "source": [
    "model_sequential.compile(loss = losses.BinaryCrossentropy(),\n",
    "                            optimizer='adam',\n",
    "                            metrics=['accuracy'])"
   ]
  },
  {
   "cell_type": "code",
   "execution_count": 16,
   "id": "f7281244",
   "metadata": {},
   "outputs": [
    {
     "name": "stdout",
     "output_type": "stream",
     "text": [
      "Model: \"model\"\n",
      "_________________________________________________________________\n",
      " Layer (type)                Output Shape              Param #   \n",
      "=================================================================\n",
      " input_1 (InputLayer)        [(None, None)]            0         \n",
      "                                                                 \n",
      " embedding_1 (Embedding)     (None, None, 16)          160000    \n",
      "                                                                 \n",
      " global_average_pooling1d_1  (None, 16)                0         \n",
      "  (GlobalAveragePooling1D)                                       \n",
      "                                                                 \n",
      " dense_1 (Dense)             (None, 1)                 17        \n",
      "                                                                 \n",
      "=================================================================\n",
      "Total params: 160017 (625.07 KB)\n",
      "Trainable params: 160017 (625.07 KB)\n",
      "Non-trainable params: 0 (0.00 Byte)\n",
      "_________________________________________________________________\n"
     ]
    }
   ],
   "source": [
    "# Define the inputs\n",
    "inputs = tf.keras.Input(shape=(None,))\n",
    "\n",
    "# Define the first layer\n",
    "embedding = layers.Embedding(max_features, embedding_dim)\n",
    "# Call the first layer with inputs as the parameter\n",
    "x = embedding(inputs)\n",
    "\n",
    "# Define the second layer\n",
    "pooling = layers.GlobalAveragePooling1D()\n",
    "# Call the first layer with the output of the previous layer as the parameter\n",
    "x = pooling(x)\n",
    "\n",
    "# Define and call in the same line. (Same thing used two lines of code above\n",
    "# for other layers. You can use any option you prefer.)\n",
    "outputs = layers.Dense(1, activation='sigmoid')(x)\n",
    "#The two-line alternative to the one layer would be:\n",
    "# dense = layers.Dense(1, activation='sigmoid')\n",
    "# x = dense(x)\n",
    "\n",
    "\n",
    "# Create the model\n",
    "model_functional = tf.keras.Model(inputs=inputs, outputs=outputs)\n",
    "\n",
    "# Print out the summary of the model\n",
    "model_functional.summary()"
   ]
  },
  {
   "cell_type": "code",
   "execution_count": 17,
   "id": "c29258d1",
   "metadata": {},
   "outputs": [],
   "source": [
    "model_functional.compile(loss=losses.BinaryCrossentropy(),\n",
    "              optimizer='adam',\n",
    "              metrics=['accuracy'])"
   ]
  },
  {
   "cell_type": "code",
   "execution_count": 18,
   "id": "171da881",
   "metadata": {},
   "outputs": [],
   "source": [
    "# Select which model you want to use and train. the results should be the same\n",
    "model = model_functional \n",
    "# model = model_sequential"
   ]
  },
  {
   "cell_type": "code",
   "execution_count": 19,
   "id": "9d85acaf",
   "metadata": {},
   "outputs": [
    {
     "name": "stdout",
     "output_type": "stream",
     "text": [
      "Epoch 1/25\n",
      "125/125 - 2s - loss: 0.6900 - accuracy: 0.5915 - val_loss: 0.6856 - val_accuracy: 0.7000 - 2s/epoch - 15ms/step\n",
      "Epoch 2/25\n",
      "125/125 - 1s - loss: 0.6776 - accuracy: 0.7427 - val_loss: 0.6708 - val_accuracy: 0.7330 - 731ms/epoch - 6ms/step\n",
      "Epoch 3/25\n",
      "125/125 - 1s - loss: 0.6560 - accuracy: 0.7692 - val_loss: 0.6484 - val_accuracy: 0.7500 - 679ms/epoch - 5ms/step\n",
      "Epoch 4/25\n",
      "125/125 - 1s - loss: 0.6265 - accuracy: 0.7805 - val_loss: 0.6215 - val_accuracy: 0.7540 - 693ms/epoch - 6ms/step\n",
      "Epoch 5/25\n",
      "125/125 - 1s - loss: 0.5927 - accuracy: 0.7965 - val_loss: 0.5932 - val_accuracy: 0.7700 - 674ms/epoch - 5ms/step\n",
      "Epoch 6/25\n",
      "125/125 - 1s - loss: 0.5578 - accuracy: 0.8180 - val_loss: 0.5653 - val_accuracy: 0.7800 - 689ms/epoch - 6ms/step\n",
      "Epoch 7/25\n",
      "125/125 - 1s - loss: 0.5233 - accuracy: 0.8367 - val_loss: 0.5389 - val_accuracy: 0.8000 - 725ms/epoch - 6ms/step\n",
      "Epoch 8/25\n",
      "125/125 - 1s - loss: 0.4902 - accuracy: 0.8560 - val_loss: 0.5143 - val_accuracy: 0.8050 - 681ms/epoch - 5ms/step\n",
      "Epoch 9/25\n",
      "125/125 - 1s - loss: 0.4589 - accuracy: 0.8662 - val_loss: 0.4917 - val_accuracy: 0.8150 - 737ms/epoch - 6ms/step\n",
      "Epoch 10/25\n",
      "125/125 - 1s - loss: 0.4298 - accuracy: 0.8817 - val_loss: 0.4713 - val_accuracy: 0.8250 - 659ms/epoch - 5ms/step\n",
      "Epoch 11/25\n",
      "125/125 - 1s - loss: 0.4029 - accuracy: 0.8913 - val_loss: 0.4531 - val_accuracy: 0.8350 - 666ms/epoch - 5ms/step\n",
      "Epoch 12/25\n",
      "125/125 - 1s - loss: 0.3782 - accuracy: 0.8978 - val_loss: 0.4371 - val_accuracy: 0.8440 - 631ms/epoch - 5ms/step\n",
      "Epoch 13/25\n",
      "125/125 - 1s - loss: 0.3557 - accuracy: 0.9072 - val_loss: 0.4229 - val_accuracy: 0.8440 - 625ms/epoch - 5ms/step\n",
      "Epoch 14/25\n",
      "125/125 - 1s - loss: 0.3350 - accuracy: 0.9153 - val_loss: 0.4106 - val_accuracy: 0.8500 - 649ms/epoch - 5ms/step\n",
      "Epoch 15/25\n",
      "125/125 - 1s - loss: 0.3162 - accuracy: 0.9205 - val_loss: 0.3997 - val_accuracy: 0.8510 - 647ms/epoch - 5ms/step\n",
      "Epoch 16/25\n",
      "125/125 - 1s - loss: 0.2988 - accuracy: 0.9260 - val_loss: 0.3903 - val_accuracy: 0.8570 - 605ms/epoch - 5ms/step\n",
      "Epoch 17/25\n",
      "125/125 - 1s - loss: 0.2828 - accuracy: 0.9315 - val_loss: 0.3820 - val_accuracy: 0.8610 - 735ms/epoch - 6ms/step\n",
      "Epoch 18/25\n",
      "125/125 - 1s - loss: 0.2679 - accuracy: 0.9367 - val_loss: 0.3748 - val_accuracy: 0.8620 - 653ms/epoch - 5ms/step\n",
      "Epoch 19/25\n",
      "125/125 - 1s - loss: 0.2541 - accuracy: 0.9415 - val_loss: 0.3684 - val_accuracy: 0.8640 - 613ms/epoch - 5ms/step\n",
      "Epoch 20/25\n",
      "125/125 - 1s - loss: 0.2412 - accuracy: 0.9450 - val_loss: 0.3629 - val_accuracy: 0.8610 - 625ms/epoch - 5ms/step\n",
      "Epoch 21/25\n",
      "125/125 - 1s - loss: 0.2290 - accuracy: 0.9498 - val_loss: 0.3580 - val_accuracy: 0.8620 - 618ms/epoch - 5ms/step\n",
      "Epoch 22/25\n",
      "125/125 - 1s - loss: 0.2176 - accuracy: 0.9535 - val_loss: 0.3538 - val_accuracy: 0.8630 - 668ms/epoch - 5ms/step\n",
      "Epoch 23/25\n",
      "125/125 - 1s - loss: 0.2068 - accuracy: 0.9567 - val_loss: 0.3501 - val_accuracy: 0.8640 - 654ms/epoch - 5ms/step\n",
      "Epoch 24/25\n",
      "125/125 - 1s - loss: 0.1967 - accuracy: 0.9603 - val_loss: 0.3469 - val_accuracy: 0.8640 - 632ms/epoch - 5ms/step\n",
      "Epoch 25/25\n",
      "125/125 - 1s - loss: 0.1870 - accuracy: 0.9643 - val_loss: 0.3442 - val_accuracy: 0.8630 - 703ms/epoch - 6ms/step\n"
     ]
    }
   ],
   "source": [
    "epochs = 25\n",
    "\n",
    "history = model.fit(\n",
    "                train_ds,\n",
    "                validation_data=val_ds,\n",
    "                epochs = epochs,\n",
    "                verbose =2)"
   ]
  },
  {
   "cell_type": "code",
   "execution_count": 20,
   "id": "7a4b2f81",
   "metadata": {},
   "outputs": [
    {
     "name": "stdout",
     "output_type": "stream",
     "text": [
      "157/157 [==============================] - 1s 4ms/step - loss: 0.3644 - accuracy: 0.8450\n",
      "Loss: 0.36438503861427307\n",
      "Accuracy: 0.8450000286102295\n"
     ]
    }
   ],
   "source": [
    "loss, accuracy = model.evaluate(test_ds)\n",
    "\n",
    "print(f\"Loss: {loss}\")\n",
    "print(f\"Accuracy: {accuracy}\")"
   ]
  },
  {
   "cell_type": "code",
   "execution_count": 21,
   "id": "6dd4f2be",
   "metadata": {},
   "outputs": [
    {
     "data": {
      "image/png": "[encoded data removed]",
      "text/plain": [
       "<Figure size 640x480 with 1 Axes>"
      ]
     },
     "metadata": {},
     "output_type": "display_data"
    },
    {
     "data": {
      "image/png": "[encoded data removed]",
      "text/plain": [
       "<Figure size 640x480 with 1 Axes>"
      ]
     },
     "metadata": {},
     "output_type": "display_data"
    }
   ],
   "source": [
    "def plot_metrics(history, metric):\n",
    "    plt.plot(history.history[metric])\n",
    "    plt.plot(history.history[f'val_{metric}'])\n",
    "    plt.xlabel(\"Epochs\")\n",
    "    plt.ylabel(metric.title())\n",
    "    plt.legend([metric, f'val_{metric}'])\n",
    "    plt.show()\n",
    "    \n",
    "plot_metrics(history, \"accuracy\")\n",
    "plot_metrics(history, \"loss\")"
   ]
  },
  {
   "cell_type": "code",
   "execution_count": 22,
   "id": "b86f4e6b",
   "metadata": {},
   "outputs": [],
   "source": [
    "###Predic on own data\n",
    "\n",
    "export_model = tf.keras.Sequential([vectorize_layer,\n",
    "                                    model])\n",
    "\n",
    "export_model.compile(loss = losses.BinaryCrossentropy(from_logits=False), optimizer=\"adam\", metrics= ['accuracy'])"
   ]
  },
  {
   "cell_type": "code",
   "execution_count": 23,
   "id": "1ba8a591",
   "metadata": {},
   "outputs": [],
   "source": [
    "examples = ['this movie was very, very good',\n",
    "            'quite ok', \n",
    "            'the movie was not bad',\n",
    "            'bad',\n",
    "            'negative disappointed bad scary',\n",
    "            'this movie was stupid']\n",
    "\n",
    "results = export_model.predict(examples, verbose=False)"
   ]
  },
  {
   "cell_type": "code",
   "execution_count": 24,
   "id": "6ba029fe",
   "metadata": {},
   "outputs": [
    {
     "name": "stdout",
     "output_type": "stream",
     "text": [
      "Result: 0.592,   Label: 1,   Review: this movie was very, very good\n",
      "Result: 0.493,   Label: 0,   Review: quite ok\n",
      "Result: 0.392,   Label: 0,   Review: the movie was not bad\n",
      "Result: 0.442,   Label: 0,   Review: bad\n",
      "Result: 0.371,   Label: 0,   Review: negative disappointed bad scary\n",
      "Result: 0.401,   Label: 0,   Review: this movie was stupid\n"
     ]
    }
   ],
   "source": [
    "for result, example in zip(results, examples):\n",
    "    print(f'Result: {result[0]:.3f},   Label: {int(np.round(result[0]))},   Review: {example}')"
   ]
  },
  {
   "cell_type": "code",
   "execution_count": 25,
   "id": "18b51406",
   "metadata": {},
   "outputs": [
    {
     "data": {
      "text/plain": [
       "array([[0.59220886],\n",
       "       [0.49254858],\n",
       "       [0.39235646],\n",
       "       [0.4415283 ],\n",
       "       [0.37145683],\n",
       "       [0.40073806]], dtype=float32)"
      ]
     },
     "execution_count": 25,
     "metadata": {},
     "output_type": "execute_result"
    }
   ],
   "source": [
    "results"
   ]
  },
  {
   "cell_type": "code",
   "execution_count": null,
   "id": "234103a9",
   "metadata": {},
   "outputs": [],
   "source": []
  },
  {
   "cell_type": "code",
   "execution_count": null,
   "id": "2f0c2210",
   "metadata": {},
   "outputs": [],
   "source": []
  }
 ],
 "metadata": {
  "kernelspec": {
   "display_name": "Python 3 (ipykernel)",
   "language": "python",
   "name": "python3"
  },
  "language_info": {
   "codemirror_mode": {
    "name": "ipython",
    "version": 3
   },
   "file_extension": ".py",
   "mimetype": "text/x-python",
   "name": "python",
   "nbconvert_exporter": "python",
   "pygments_lexer": "ipython3",
   "version": "3.10.11"
  }
 },
 "nbformat": 4,
 "nbformat_minor": 5
}
